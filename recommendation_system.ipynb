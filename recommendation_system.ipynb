{
 "cells": [
  {
   "cell_type": "markdown",
   "id": "182cd081-275a-421e-ad8b-01462b7e00b1",
   "metadata": {},
   "source": [
    "# Adagio Recommendation System"
   ]
  },
  {
   "cell_type": "markdown",
   "id": "3d070985-b3cb-4e51-8a83-ba27e7828e68",
   "metadata": {},
   "source": [
    "## Introduction"
   ]
  },
  {
   "cell_type": "markdown",
   "id": "c21ab1af-af43-427a-ba8f-bd92372d6c9b",
   "metadata": {},
   "source": [
    "One way to keep a consumer longer on a page is by showing products that may interest him. To do so, one should build a **recommendation system**."
   ]
  },
  {
   "cell_type": "markdown",
   "id": "2050df91-1948-4e84-b95e-3aecadae0bdd",
   "metadata": {},
   "source": [
    "There exists different models. **A simple one is to just recommend other products from the same category**. For example, if someone is looking for a TV on an electronic website, the recommendations can be other TVs (nor refrigerators, coffee makers, so on)."
   ]
  },
  {
   "cell_type": "markdown",
   "id": "892dae01-2dc0-4af7-9b1c-b4470811e6ed",
   "metadata": {},
   "source": [
    "A more sophisticated way, is to **recommend the products that are the most similars**. For example, if the same person is looking for a low consumption TV on the same website, the recommendations can be other low consumption electronics (not high consumption TVs)."
   ]
  },
  {
   "cell_type": "markdown",
   "id": "68380076-7317-4fdd-aa43-4b413cc6a9f2",
   "metadata": {},
   "source": [
    "The latest carries a problem. **We first need to define a metric to measure similarities**. That is, assign an ordered value (a number) to each pair of product, where the largest means more similarity."
   ]
  },
  {
   "cell_type": "markdown",
   "id": "2ba314c5-fc50-486e-8bd9-08b075d3f85a",
   "metadata": {},
   "source": [
    "In this notebook we obtained similarities from the data collected (from [Adagio website](https://adagio.cl/)). And created an algorithm capable of recommeding tea related products."
   ]
  },
  {
   "cell_type": "markdown",
   "id": "cb47f9c7-a82c-419b-aad3-260d18c698c9",
   "metadata": {},
   "source": [
    "---"
   ]
  },
  {
   "cell_type": "markdown",
   "id": "cd81d94d-2a23-49fc-82a7-c54369c68748",
   "metadata": {},
   "source": [
    "Import the basic necessary libraries."
   ]
  },
  {
   "cell_type": "code",
   "execution_count": 1,
   "id": "8f801abc-dcc4-4528-aacc-b570928c0162",
   "metadata": {},
   "outputs": [],
   "source": [
    "import numpy as np\n",
    "np.random.seed(151515)\n",
    "import pandas as pd"
   ]
  },
  {
   "cell_type": "markdown",
   "id": "7e3e0468-dccc-4a95-91db-3a58118b27d2",
   "metadata": {},
   "source": [
    "### Import Dataset"
   ]
  },
  {
   "cell_type": "markdown",
   "id": "1cd4a7fa-b632-44cb-8e30-5b01c90431ca",
   "metadata": {},
   "source": [
    "Import the dataset."
   ]
  },
  {
   "cell_type": "code",
   "execution_count": 2,
   "id": "ec78cd46-3c6d-4ef0-9df2-fea3408434a7",
   "metadata": {},
   "outputs": [],
   "source": [
    "df = pd.read_csv(\"data_scraper/products.csv\")"
   ]
  },
  {
   "cell_type": "markdown",
   "id": "5a5d513b-2a56-44c3-8ecc-f5d33757dbf3",
   "metadata": {},
   "source": [
    "The data looks like:"
   ]
  },
  {
   "cell_type": "code",
   "execution_count": 3,
   "id": "c1a01ccf-3f35-4975-9188-5ccacd3fe0e0",
   "metadata": {},
   "outputs": [
    {
     "data": {
      "text/html": [
       "<div>\n",
       "<style scoped>\n",
       "    .dataframe tbody tr th:only-of-type {\n",
       "        vertical-align: middle;\n",
       "    }\n",
       "\n",
       "    .dataframe tbody tr th {\n",
       "        vertical-align: top;\n",
       "    }\n",
       "\n",
       "    .dataframe thead th {\n",
       "        text-align: right;\n",
       "    }\n",
       "</style>\n",
       "<table border=\"1\" class=\"dataframe\">\n",
       "  <thead>\n",
       "    <tr style=\"text-align: right;\">\n",
       "      <th></th>\n",
       "      <th>amount</th>\n",
       "      <th>benefit</th>\n",
       "      <th>description_1</th>\n",
       "      <th>description_2</th>\n",
       "      <th>format</th>\n",
       "      <th>link</th>\n",
       "      <th>name</th>\n",
       "      <th>price</th>\n",
       "      <th>property_1</th>\n",
       "      <th>property_2</th>\n",
       "      <th>property_3</th>\n",
       "      <th>property_4</th>\n",
       "      <th>property_5</th>\n",
       "      <th>raters</th>\n",
       "      <th>rating</th>\n",
       "      <th>temperature</th>\n",
       "      <th>time</th>\n",
       "    </tr>\n",
       "  </thead>\n",
       "  <tbody>\n",
       "    <tr>\n",
       "      <th>0</th>\n",
       "      <td>2,5g/250ml</td>\n",
       "      <td>negro</td>\n",
       "      <td>te negro confeti verde, ojos de caramelo y sab...</td>\n",
       "      <td>te negro confeti verde, ojos de caramelo y sab...</td>\n",
       "      <td>57 gramos</td>\n",
       "      <td>https://adagio.cl/products/monster-mash</td>\n",
       "      <td>monster mash</td>\n",
       "      <td>5990</td>\n",
       "      <td>energizante</td>\n",
       "      <td>NaN</td>\n",
       "      <td>NaN</td>\n",
       "      <td>NaN</td>\n",
       "      <td>NaN</td>\n",
       "      <td>1.0</td>\n",
       "      <td>3.0</td>\n",
       "      <td>100 celsius</td>\n",
       "      <td>3 min</td>\n",
       "    </tr>\n",
       "    <tr>\n",
       "      <th>1</th>\n",
       "      <td>2,5g/250ml</td>\n",
       "      <td>rooibos</td>\n",
       "      <td>rooibos verde, full antioxidante, con toques d...</td>\n",
       "      <td>rooibos verde, manzanilla, cascara de naranja,...</td>\n",
       "      <td>85 gramos</td>\n",
       "      <td>https://adagio.cl/products/rooibos-tropical</td>\n",
       "      <td>rooibos verde tropical</td>\n",
       "      <td>5990</td>\n",
       "      <td>relajante</td>\n",
       "      <td>sin-cafeina</td>\n",
       "      <td>NaN</td>\n",
       "      <td>NaN</td>\n",
       "      <td>NaN</td>\n",
       "      <td>1.0</td>\n",
       "      <td>5.0</td>\n",
       "      <td>100 celsius</td>\n",
       "      <td>5 min</td>\n",
       "    </tr>\n",
       "    <tr>\n",
       "      <th>2</th>\n",
       "      <td>2g por taza</td>\n",
       "      <td>hierba</td>\n",
       "      <td>la primavera ya llego y con ella un clima mas ...</td>\n",
       "      <td>hojas de mora, menta, hibisco, flores de lavan...</td>\n",
       "      <td>57 gramos</td>\n",
       "      <td>https://adagio.cl/products/feel-the-spring</td>\n",
       "      <td>feel the spring</td>\n",
       "      <td>5990</td>\n",
       "      <td>relajante</td>\n",
       "      <td>sin-cafeina</td>\n",
       "      <td>NaN</td>\n",
       "      <td>NaN</td>\n",
       "      <td>NaN</td>\n",
       "      <td>NaN</td>\n",
       "      <td>NaN</td>\n",
       "      <td>100 celsius</td>\n",
       "      <td>5-10 min</td>\n",
       "    </tr>\n",
       "    <tr>\n",
       "      <th>3</th>\n",
       "      <td>2,5g/250ml</td>\n",
       "      <td>oolong</td>\n",
       "      <td>nuestro blackberry sage oolong es una mezcla e...</td>\n",
       "      <td>te oolong, salvia, hojas de frambuesa, sabor n...</td>\n",
       "      <td>57 gramos</td>\n",
       "      <td>https://adagio.cl/products/oolong-mora</td>\n",
       "      <td>oolong salvia mora</td>\n",
       "      <td>5990</td>\n",
       "      <td>digestion</td>\n",
       "      <td>NaN</td>\n",
       "      <td>NaN</td>\n",
       "      <td>NaN</td>\n",
       "      <td>NaN</td>\n",
       "      <td>1.0</td>\n",
       "      <td>2.0</td>\n",
       "      <td>100 celsius</td>\n",
       "      <td>3-5 min</td>\n",
       "    </tr>\n",
       "    <tr>\n",
       "      <th>4</th>\n",
       "      <td>NaN</td>\n",
       "      <td>NaN</td>\n",
       "      <td>prepara tu te favorto de forma facil con la cu...</td>\n",
       "      <td>echar en un taza la cantidad de cucharadas ind...</td>\n",
       "      <td>fucsia</td>\n",
       "      <td>https://adagio.cl/products/cuchara-gold-fucsia</td>\n",
       "      <td>cuchara gold fucsia</td>\n",
       "      <td>3490</td>\n",
       "      <td>NaN</td>\n",
       "      <td>NaN</td>\n",
       "      <td>NaN</td>\n",
       "      <td>NaN</td>\n",
       "      <td>NaN</td>\n",
       "      <td>NaN</td>\n",
       "      <td>NaN</td>\n",
       "      <td>NaN</td>\n",
       "      <td>NaN</td>\n",
       "    </tr>\n",
       "  </tbody>\n",
       "</table>\n",
       "</div>"
      ],
      "text/plain": [
       "        amount  benefit                                      description_1  \\\n",
       "0   2,5g/250ml    negro  te negro confeti verde, ojos de caramelo y sab...   \n",
       "1   2,5g/250ml  rooibos  rooibos verde, full antioxidante, con toques d...   \n",
       "2  2g por taza   hierba  la primavera ya llego y con ella un clima mas ...   \n",
       "3   2,5g/250ml   oolong  nuestro blackberry sage oolong es una mezcla e...   \n",
       "4          NaN      NaN  prepara tu te favorto de forma facil con la cu...   \n",
       "\n",
       "                                       description_2     format  \\\n",
       "0  te negro confeti verde, ojos de caramelo y sab...  57 gramos   \n",
       "1  rooibos verde, manzanilla, cascara de naranja,...  85 gramos   \n",
       "2  hojas de mora, menta, hibisco, flores de lavan...  57 gramos   \n",
       "3  te oolong, salvia, hojas de frambuesa, sabor n...  57 gramos   \n",
       "4  echar en un taza la cantidad de cucharadas ind...     fucsia   \n",
       "\n",
       "                                             link                    name  \\\n",
       "0         https://adagio.cl/products/monster-mash            monster mash   \n",
       "1     https://adagio.cl/products/rooibos-tropical  rooibos verde tropical   \n",
       "2      https://adagio.cl/products/feel-the-spring         feel the spring   \n",
       "3          https://adagio.cl/products/oolong-mora      oolong salvia mora   \n",
       "4  https://adagio.cl/products/cuchara-gold-fucsia     cuchara gold fucsia   \n",
       "\n",
       "  price   property_1   property_2 property_3 property_4  property_5  raters  \\\n",
       "0  5990  energizante          NaN        NaN        NaN         NaN     1.0   \n",
       "1  5990    relajante  sin-cafeina        NaN        NaN         NaN     1.0   \n",
       "2  5990    relajante  sin-cafeina        NaN        NaN         NaN     NaN   \n",
       "3  5990    digestion          NaN        NaN        NaN         NaN     1.0   \n",
       "4  3490          NaN          NaN        NaN        NaN         NaN     NaN   \n",
       "\n",
       "   rating  temperature      time  \n",
       "0     3.0  100 celsius     3 min  \n",
       "1     5.0  100 celsius     5 min  \n",
       "2     NaN  100 celsius  5-10 min  \n",
       "3     2.0  100 celsius   3-5 min  \n",
       "4     NaN          NaN       NaN  "
      ]
     },
     "execution_count": 3,
     "metadata": {},
     "output_type": "execute_result"
    }
   ],
   "source": [
    "df.head(5)"
   ]
  },
  {
   "cell_type": "markdown",
   "id": "c0cb6e2b-eceb-4ace-83a4-a519efef4c51",
   "metadata": {},
   "source": [
    "We have the following information of the dataset."
   ]
  },
  {
   "cell_type": "code",
   "execution_count": 4,
   "id": "b10f7613-3de5-44d7-951c-74a497f51327",
   "metadata": {},
   "outputs": [
    {
     "name": "stdout",
     "output_type": "stream",
     "text": [
      "<class 'pandas.core.frame.DataFrame'>\n",
      "RangeIndex: 643 entries, 0 to 642\n",
      "Data columns (total 17 columns):\n",
      " #   Column         Non-Null Count  Dtype  \n",
      "---  ------         --------------  -----  \n",
      " 0   amount         385 non-null    object \n",
      " 1   benefit        383 non-null    object \n",
      " 2   description_1  637 non-null    object \n",
      " 3   description_2  639 non-null    object \n",
      " 4   format         556 non-null    object \n",
      " 5   link           643 non-null    object \n",
      " 6   name           643 non-null    object \n",
      " 7   price          643 non-null    object \n",
      " 8   property_1     407 non-null    object \n",
      " 9   property_2     255 non-null    object \n",
      " 10  property_3     56 non-null     object \n",
      " 11  property_4     5 non-null      object \n",
      " 12  property_5     0 non-null      float64\n",
      " 13  raters         454 non-null    float64\n",
      " 14  rating         454 non-null    float64\n",
      " 15  temperature    385 non-null    object \n",
      " 16  time           385 non-null    object \n",
      "dtypes: float64(3), object(14)\n",
      "memory usage: 85.5+ KB\n",
      "\n",
      "DataFrame Shape: (643, 17)\n"
     ]
    }
   ],
   "source": [
    "df.info()\n",
    "print(f\"\\nDataFrame Shape: {df.shape}\")"
   ]
  },
  {
   "cell_type": "markdown",
   "id": "8224a787-c45f-4714-ad8d-878e5632b444",
   "metadata": {},
   "source": [
    "drop the `property_5` column, as it has 0 non-null rows."
   ]
  },
  {
   "cell_type": "code",
   "execution_count": 5,
   "id": "055d15ec-ef88-4ef3-b4e4-28fb711ec33c",
   "metadata": {},
   "outputs": [],
   "source": [
    "df.drop(columns=\"property_5\", inplace=True)"
   ]
  },
  {
   "cell_type": "markdown",
   "id": "8ed4f3f7-867f-488e-97f3-2fbc6bc58605",
   "metadata": {},
   "source": [
    "### Remove Duplicates"
   ]
  },
  {
   "cell_type": "markdown",
   "id": "9d0b211d-1208-4b86-96a1-c0034dab6b5e",
   "metadata": {},
   "source": [
    "Duplicates can affect the model. The ideal is not to recommend the same product twice."
   ]
  },
  {
   "cell_type": "code",
   "execution_count": 6,
   "id": "6d71533c-30f7-4aac-9fee-9ae337096ff4",
   "metadata": {},
   "outputs": [
    {
     "name": "stdout",
     "output_type": "stream",
     "text": [
      "Number of duplicated links: 379\n"
     ]
    }
   ],
   "source": [
    "duplicates_number = sum(df[\"link\"].duplicated())\n",
    "print(f\"Number of duplicated links: {duplicates_number}\")"
   ]
  },
  {
   "cell_type": "markdown",
   "id": "40ba79e5-c3da-437b-82b7-4cb8a21337b6",
   "metadata": {},
   "source": [
    "Drop all the duplicated links."
   ]
  },
  {
   "cell_type": "code",
   "execution_count": 7,
   "id": "dd1e194f-ff53-41db-95b6-8276a83287cf",
   "metadata": {},
   "outputs": [],
   "source": [
    "df.drop_duplicates(inplace=True)\n",
    "df = df.sample(frac=1, random_state=5454)\n",
    "df.reset_index(drop=True, inplace=True)\n",
    "df = df.copy()"
   ]
  },
  {
   "cell_type": "code",
   "execution_count": 8,
   "id": "0d4066dc-8187-41bb-9e4c-be8852fdc510",
   "metadata": {},
   "outputs": [
    {
     "name": "stdout",
     "output_type": "stream",
     "text": [
      "Final DataFrame shape: (264, 16)\n"
     ]
    }
   ],
   "source": [
    "print(f\"Final DataFrame shape: {df.shape}\")"
   ]
  },
  {
   "cell_type": "markdown",
   "id": "54068378-bdae-443d-a216-4068ee2b23dc",
   "metadata": {},
   "source": [
    "Finally, we have the following information."
   ]
  },
  {
   "cell_type": "code",
   "execution_count": 9,
   "id": "b9724f14-30b3-474d-9d0a-684315c4c4a3",
   "metadata": {},
   "outputs": [
    {
     "name": "stdout",
     "output_type": "stream",
     "text": [
      "<class 'pandas.core.frame.DataFrame'>\n",
      "RangeIndex: 264 entries, 0 to 263\n",
      "Data columns (total 16 columns):\n",
      " #   Column         Non-Null Count  Dtype  \n",
      "---  ------         --------------  -----  \n",
      " 0   amount         154 non-null    object \n",
      " 1   benefit        153 non-null    object \n",
      " 2   description_1  262 non-null    object \n",
      " 3   description_2  261 non-null    object \n",
      " 4   format         219 non-null    object \n",
      " 5   link           264 non-null    object \n",
      " 6   name           264 non-null    object \n",
      " 7   price          264 non-null    object \n",
      " 8   property_1     162 non-null    object \n",
      " 9   property_2     91 non-null     object \n",
      " 10  property_3     21 non-null     object \n",
      " 11  property_4     2 non-null      object \n",
      " 12  raters         182 non-null    float64\n",
      " 13  rating         182 non-null    float64\n",
      " 14  temperature    154 non-null    object \n",
      " 15  time           154 non-null    object \n",
      "dtypes: float64(2), object(14)\n",
      "memory usage: 33.1+ KB\n"
     ]
    }
   ],
   "source": [
    "df.info()"
   ]
  },
  {
   "cell_type": "markdown",
   "id": "c232c8ee-1509-4de5-8753-b5e67838003a",
   "metadata": {},
   "source": [
    "## Similarities"
   ]
  },
  {
   "cell_type": "markdown",
   "id": "a5ed1138-87fe-41ab-943a-bca06e4c1678",
   "metadata": {},
   "source": [
    "### Categorical Variables"
   ]
  },
  {
   "cell_type": "markdown",
   "id": "802df281-8d67-45f8-bccc-de813e58b362",
   "metadata": {},
   "source": [
    "Some products have labels like *te negro*, *energizante* and so on. The algorithm should recommend products with similar labels."
   ]
  },
  {
   "cell_type": "markdown",
   "id": "a7103484-c95c-4f86-ace5-0a14d7a3755c",
   "metadata": {},
   "source": [
    "We have the following labels values:"
   ]
  },
  {
   "cell_type": "code",
   "execution_count": 13,
   "id": "1fe07b0d-e37d-47f8-b217-aedee246d813",
   "metadata": {},
   "outputs": [
    {
     "name": "stdout",
     "output_type": "stream",
     "text": [
      "Unique Values in format column:\n",
      " ['' '   gramos' '   teabags' 'dorada' 'hojas naranjo' 'verde'\n",
      " 'turquesa infusor dorado' 'full color lila' 'menta' 'iridiscent'\n",
      " 'pack good moments' 'azul' 'lila' 'estrella turquesa' 'grafito'\n",
      " 'amarillo' 'negro' 'blanco' 'negra' 'full color menta'\n",
      " 'moonstar turquesa' '   piramides' 'iridescent lila' 'turquesa'\n",
      " 'dark blue' 'roja' '   gramos      bolitas' 'celeste' 'estrella salmon'\n",
      " 'mug bhoro ceramica negro' 'rojo' 'black' 'estrella fucsia'\n",
      " 'transparente' 'lila granito' 'grande' 'fucsia' 'infusor grafito'\n",
      " 'nubes turquesa' 'turquesa granito']\n",
      "\n",
      "Unique Values in benefit column:\n",
      " ['' 'matcha' 'negro' 'hierba' 'verde' 'blanco' 'oolong' 'rooibos' 'rojo'\n",
      " 'amarillo']\n",
      "\n",
      "Unique Values in property_1 column:\n",
      " ['' 'antioxidante' 'energizante' 'relajante' 'sin-cafeina' 'digestion']\n",
      "\n",
      "Unique Values in property_2 column:\n",
      " ['' 'digestion' 'energizante' 'sin-cafeina' 'relajante']\n",
      "\n",
      "Unique Values in property_3 column:\n",
      " ['' 'energizante' 'relajante' 'sin-cafeina']\n",
      "\n",
      "Unique Values in property_4 column:\n",
      " ['' 'sin-cafeina']\n",
      "\n"
     ]
    }
   ],
   "source": [
    "print(f\"Unique Values in format column:\\n {df.format.unique()}\\n\")\n",
    "print(f\"Unique Values in benefit column:\\n {df.benefit.unique()}\\n\")\n",
    "print(f\"Unique Values in property_1 column:\\n {df.property_1.unique()}\\n\")\n",
    "print(f\"Unique Values in property_2 column:\\n {df.property_2.unique()}\\n\")\n",
    "print(f\"Unique Values in property_3 column:\\n {df.property_3.unique()}\\n\")\n",
    "print(f\"Unique Values in property_4 column:\\n {df.property_4.unique()}\\n\")"
   ]
  },
  {
   "cell_type": "markdown",
   "id": "8389b806-e03f-4424-86fb-b44e46a9ed34",
   "metadata": {},
   "source": [
    "Fill the NAs with blank text."
   ]
  },
  {
   "cell_type": "code",
   "execution_count": 11,
   "id": "ad4e1c97-7362-4cb5-a44c-006a78411087",
   "metadata": {},
   "outputs": [],
   "source": [
    "df[\"format\"].fillna(value=\"\", inplace=True)\n",
    "df[\"benefit\"].fillna(value=\"\", inplace=True)\n",
    "df[\"property_1\"].fillna(value=\"\", inplace=True)\n",
    "df[\"property_2\"].fillna(value=\"\", inplace=True)\n",
    "df[\"property_3\"].fillna(value=\"\", inplace=True)\n",
    "df[\"property_4\"].fillna(value=\"\", inplace=True)"
   ]
  },
  {
   "cell_type": "markdown",
   "id": "032d132c-3f9c-4efd-9321-488414a96cd5",
   "metadata": {},
   "source": [
    "Clean the text to not have special characters."
   ]
  },
  {
   "cell_type": "code",
   "execution_count": 12,
   "id": "aef5006a-83cf-42d4-895c-0d350c54ce66",
   "metadata": {},
   "outputs": [],
   "source": [
    "def clean_text(string):\n",
    "    for character in string:\n",
    "        if character not in \"abcdefghijklmnopqrstuvwxyz \":\n",
    "            string = string.replace(str(character), \" \")\n",
    "    return string\n",
    "\n",
    "def clean_cafeina(string):\n",
    "    for character in string:\n",
    "        if character == \"-\":\n",
    "            string = string.replace(str(character), \"\")\n",
    "    return string\n",
    "\n",
    "df[\"format\"] = df[\"format\"].apply(lambda x: clean_text(x))\n",
    "df[\"properties\"] = df[\"property_1\"] + \" \" + df[\"property_2\"] + \" \" \\\n",
    "    + df[\"property_3\"] + \" \" + df[\"property_4\"]\n",
    "df[\"properties\"] = df[\"properties\"].apply(lambda x: x.strip())\n",
    "df[\"properties\"] = df[\"properties\"].apply(lambda x: clean_cafeina(x))"
   ]
  },
  {
   "cell_type": "markdown",
   "id": "692a1f4f-436e-41fd-86da-452345e31fa0",
   "metadata": {},
   "source": [
    "Put all properties together in `all_properties` column."
   ]
  },
  {
   "cell_type": "code",
   "execution_count": 14,
   "id": "94b9c12d-c1ee-44a6-90bc-664afdb98ef7",
   "metadata": {},
   "outputs": [],
   "source": [
    "df[\"all_properties\"] = df[\"format\"] + \" \" + df[\"benefit\"] + \" \" + df[\"properties\"]\n",
    "df[\"all_properties\"] = df[\"all_properties\"].apply(lambda x: x.strip())\n",
    "df[\"all_properties\"] = df[\"all_properties\"].apply(lambda x: \" \".join(x.split()))"
   ]
  },
  {
   "cell_type": "markdown",
   "id": "df9aa5ed-ed67-4a07-958d-31e6a80291c2",
   "metadata": {},
   "source": [
    "#### Cosine Similarity"
   ]
  },
  {
   "cell_type": "markdown",
   "id": "dd671b07-c43e-47f3-b8b5-65201fd2b0d8",
   "metadata": {},
   "source": [
    "To measure how much one product looks like another, **we need to represent each item as a vector of some space**. This process is known as *vectorizer*.\n",
    "The column `all_properties` consists of sets of words. One can count how many times each word is repeated. This can be done using the $CountVectorizer$ class from scikit-learn."
   ]
  },
  {
   "cell_type": "code",
   "execution_count": 15,
   "id": "5c5dcc5d-6817-4a63-9acf-5f90e9fdb446",
   "metadata": {},
   "outputs": [],
   "source": [
    "from sklearn.feature_extraction.text import CountVectorizer"
   ]
  },
  {
   "cell_type": "code",
   "execution_count": 16,
   "id": "23838b2d-86a3-4e1f-acc9-8b7fd916a6a2",
   "metadata": {},
   "outputs": [],
   "source": [
    "count = CountVectorizer()\n",
    "count_matrix = count.fit_transform(df[\"all_properties\"])"
   ]
  },
  {
   "cell_type": "markdown",
   "id": "668be7f6-4bf7-4c1f-af9d-4ef31dc02918",
   "metadata": {},
   "source": [
    "We get the $count$_$matrix$ of shape:"
   ]
  },
  {
   "cell_type": "code",
   "execution_count": 19,
   "id": "015fd6d6-313e-45bd-98f7-39d2cb1f12c5",
   "metadata": {},
   "outputs": [
    {
     "data": {
      "text/plain": [
       "(264, 52)"
      ]
     },
     "execution_count": 19,
     "metadata": {},
     "output_type": "execute_result"
    }
   ],
   "source": [
    "count_matrix.shape"
   ]
  },
  {
   "cell_type": "markdown",
   "id": "24f1553a-2d62-4b98-ae98-718d2617f14f",
   "metadata": {},
   "source": [
    "Where each row of the `all_properties` column is represented as a row in the $264\\times 52$ matrix. And the $52$ columns corresponds to the $52$ unique labels."
   ]
  },
  {
   "cell_type": "markdown",
   "id": "ee2352bf-f3ee-4bbf-99ed-ed806d1228b0",
   "metadata": {},
   "source": [
    "For example, the $2^{nd}$ row of `all_properties` says:"
   ]
  },
  {
   "cell_type": "code",
   "execution_count": 22,
   "id": "997f0ae6-1546-4daf-b47d-4da6f435b8b7",
   "metadata": {},
   "outputs": [
    {
     "name": "stdout",
     "output_type": "stream",
     "text": [
      "gramos matcha antioxidante digestion energizante\n"
     ]
    }
   ],
   "source": [
    "print(df[\"all_properties\"][1])"
   ]
  },
  {
   "cell_type": "markdown",
   "id": "e52ebd6a-4a54-4185-90fd-f2ad2dc65b85",
   "metadata": {},
   "source": [
    "And the second row of the $count$_$matrix$ is:"
   ]
  },
  {
   "cell_type": "code",
   "execution_count": 23,
   "id": "c6a5f0f0-258a-4164-a1b8-0208636a310a",
   "metadata": {},
   "outputs": [
    {
     "data": {
      "text/plain": [
       "array([0, 1, 0, 0, 0, 0, 0, 0, 0, 0, 0, 0, 1, 0, 0, 1, 0, 0, 0, 0, 0, 1,\n",
       "       0, 0, 0, 0, 0, 0, 0, 0, 1, 0, 0, 0, 0, 0, 0, 0, 0, 0, 0, 0, 0, 0,\n",
       "       0, 0, 0, 0, 0, 0, 0, 0])"
      ]
     },
     "execution_count": 23,
     "metadata": {},
     "output_type": "execute_result"
    }
   ],
   "source": [
    "count_matrix.toarray()[1]"
   ]
  },
  {
   "cell_type": "markdown",
   "id": "b6a10018-8c72-4e69-8186-7b5f0649191e",
   "metadata": {},
   "source": [
    "We see that the $1$s corresponds to the labels that appears on the $2^{nd}$ row. While the $0$s to the labels that are not in the $2^{nd}$ row.\n",
    "\n",
    "In total, we have $264$ vectors inside a $52$-dimensional vector space."
   ]
  },
  {
   "cell_type": "markdown",
   "id": "82426fdc-9343-4b64-b678-5eb60a338c6c",
   "metadata": {},
   "source": [
    "---\n",
    "Now that we have the vectors, we must find a way to measure distances. One can be obtained using the *[dot product](https://en.wikipedia.org/wiki/Dot_product#Geometric_definition)* of two vectors $\\vec{v}$ and $\\vec{w}$:"
   ]
  },
  {
   "cell_type": "markdown",
   "id": "a76561b9-2bf0-45a4-a582-c10da6ca2b34",
   "metadata": {},
   "source": [
    "$$\\vec{v}\\cdot\\vec{w}=\\|v\\|\\|w\\|\\cos \\theta,$$"
   ]
  },
  {
   "cell_type": "markdown",
   "id": "7946bb6a-26ca-455b-a684-07a00af341c9",
   "metadata": {},
   "source": [
    "where $\\theta$ is the angle between $\\vec{v}$ and $\\vec{w}$, and $\\|\\cdot\\|$ is the euclidean norm."
   ]
  },
  {
   "cell_type": "markdown",
   "id": "4ffb4347-ae9c-4743-96ec-8482129f8a8e",
   "metadata": {},
   "source": [
    "So we are calculating the angle:\n",
    "$$\n",
    "\\cos\\theta = \\frac{\\vec{v}\\cdot\\vec{w}}{\\|v\\|\\|w\\|}\n",
    "$$\n",
    "to measure the distance between two vectors. As **lower angle cosines imply closers vectors**."
   ]
  },
  {
   "cell_type": "markdown",
   "id": "e4a6c0df-05d9-4c3a-b43e-28d6eaa83b16",
   "metadata": {},
   "source": [
    "For example, $\\cos\\theta_{1} = \\frac{\\sqrt{2}}{2}$ is higher than $\\cos\\theta_{2} =\\frac{-\\sqrt{2}}{2}$. which implies that the distance between $v$ and $w_{1}$ is lower than the distance between $v$ and $w_{2}$.\n",
    "\n",
    "Note that the vectors belongs to a $52$-dimensional hypercube.\n"
   ]
  },
  {
   "cell_type": "markdown",
   "id": "94e8b348-8937-46dc-9a01-5770657c0aa0",
   "metadata": {},
   "source": [
    "<img src=\"images/angle1.jpeg\" width=300/> <img src=\"images/angle2.jpeg\" width=445/>"
   ]
  },
  {
   "cell_type": "code",
   "execution_count": 27,
   "id": "736f8c8a-e927-4e7e-8050-9670a3b3b992",
   "metadata": {},
   "outputs": [],
   "source": [
    "from sklearn.metrics.pairwise import cosine_similarity"
   ]
  },
  {
   "cell_type": "markdown",
   "id": "75edb7b3-a866-4d16-bdb5-0ca37f9cd054",
   "metadata": {},
   "source": [
    "Create the cosine similarity matrix."
   ]
  },
  {
   "cell_type": "code",
   "execution_count": 25,
   "id": "6f2504cf-ba1f-478d-9bc5-a541c6842499",
   "metadata": {},
   "outputs": [],
   "source": [
    "cosim_categorical = cosine_similarity(count_matrix, count_matrix)"
   ]
  },
  {
   "cell_type": "markdown",
   "id": "189908b2-e99f-4dad-9bf2-37b1fae4cc6b",
   "metadata": {},
   "source": [
    "The cosine similarity matrix has the following shape:"
   ]
  },
  {
   "cell_type": "code",
   "execution_count": 26,
   "id": "a5eccbec-0c72-459d-af14-4be3b33a7b0a",
   "metadata": {},
   "outputs": [
    {
     "data": {
      "text/plain": [
       "(264, 264)"
      ]
     },
     "execution_count": 26,
     "metadata": {},
     "output_type": "execute_result"
    }
   ],
   "source": [
    "cosim_categorical.shape"
   ]
  },
  {
   "cell_type": "markdown",
   "id": "ca3b4dac-31b8-44d7-b9fd-5987a39c849e",
   "metadata": {},
   "source": [
    "### Description"
   ]
  },
  {
   "cell_type": "code",
   "execution_count": 20,
   "id": "97984b1b-7427-4819-9093-fe060fd41cb6",
   "metadata": {},
   "outputs": [
    {
     "data": {
      "text/plain": [
       "2"
      ]
     },
     "execution_count": 20,
     "metadata": {},
     "output_type": "execute_result"
    }
   ],
   "source": [
    "sum(df[\"description_1\"].isna())"
   ]
  },
  {
   "cell_type": "code",
   "execution_count": 21,
   "id": "4d0c195d-dd0e-46b2-8ac7-08f75c83b14b",
   "metadata": {},
   "outputs": [
    {
     "data": {
      "text/plain": [
       "3"
      ]
     },
     "execution_count": 21,
     "metadata": {},
     "output_type": "execute_result"
    }
   ],
   "source": [
    "sum(df[\"description_2\"].isna())"
   ]
  },
  {
   "cell_type": "code",
   "execution_count": 22,
   "id": "5a25ab37-4819-436b-b2af-de837f2005d4",
   "metadata": {},
   "outputs": [],
   "source": [
    "df[\"description_1\"].fillna(value=\"\", inplace=True)\n",
    "df[\"description_2\"].fillna(value=\"\", inplace=True)"
   ]
  },
  {
   "cell_type": "code",
   "execution_count": 23,
   "id": "2d0312a9-5c7b-4c23-8ad3-e19a6af3ff83",
   "metadata": {},
   "outputs": [],
   "source": [
    "def clean_text(string):\n",
    "    for character in string:\n",
    "        if character not in \"abcdefghijklmnopqrstuvwxyz \":\n",
    "            string = string.replace(str(character), \" \")\n",
    "    return string"
   ]
  },
  {
   "cell_type": "code",
   "execution_count": 24,
   "id": "1944f50d-84a0-46f8-9249-8d7ed7d803b3",
   "metadata": {},
   "outputs": [],
   "source": [
    "df[\"description_cleaned\"] = df[\"description_1\"].apply(lambda x: clean_text(x)) + \\\n",
    "    \" \" + df[\"description_2\"].apply(lambda x: clean_text(x))"
   ]
  },
  {
   "cell_type": "code",
   "execution_count": 25,
   "id": "7f32fd2a-2081-447a-9738-efb11c0b209d",
   "metadata": {},
   "outputs": [],
   "source": [
    "from sklearn.feature_extraction.text import TfidfVectorizer\n",
    "from utils import stop_words"
   ]
  },
  {
   "cell_type": "code",
   "execution_count": 26,
   "id": "eb0e0329-b738-4179-b70a-5308b390b600",
   "metadata": {},
   "outputs": [
    {
     "data": {
      "text/plain": [
       "(264, 2107)"
      ]
     },
     "execution_count": 26,
     "metadata": {},
     "output_type": "execute_result"
    }
   ],
   "source": [
    "tfidf = TfidfVectorizer(stop_words=stop_words)\n",
    "tfidf_matrix = tfidf.fit_transform(df[\"description_cleaned\"])\n",
    "tfidf_matrix.shape"
   ]
  },
  {
   "cell_type": "code",
   "execution_count": 27,
   "id": "ef9db137-2723-4c24-ae50-40ef76c693f8",
   "metadata": {},
   "outputs": [],
   "source": [
    "from sklearn.metrics.pairwise import linear_kernel\n",
    "cosim_description = linear_kernel(tfidf_matrix, tfidf_matrix)"
   ]
  },
  {
   "cell_type": "markdown",
   "id": "9eb60f93-24c7-4c3e-99bd-11f3f9b36ad0",
   "metadata": {},
   "source": [
    "### Rating"
   ]
  },
  {
   "cell_type": "code",
   "execution_count": 28,
   "id": "ed451259-606f-4ab1-b984-6f8313751978",
   "metadata": {},
   "outputs": [],
   "source": [
    "df[\"rating\"].fillna(value=0., inplace=True)\n",
    "df[\"raters\"].fillna(value=0., inplace=True)"
   ]
  },
  {
   "cell_type": "code",
   "execution_count": 29,
   "id": "0ed6b6df-91db-45d1-a225-825a7a9ee29f",
   "metadata": {},
   "outputs": [],
   "source": [
    "def weighted_rating(rating, num_votes, mean_rate, min_vote=1):\n",
    "    return (rating*num_votes/(num_votes+min_vote)) + (mean_rate*min_vote/(num_votes+min_vote))"
   ]
  },
  {
   "cell_type": "code",
   "execution_count": 30,
   "id": "faacc5f5-e410-496a-a397-1793f88186bf",
   "metadata": {},
   "outputs": [],
   "source": [
    "mean_rate = np.mean(df[\"rating\"])\n",
    "weighted_rates = [weighted_rating(df[\"rating\"][i], df[\"raters\"][i], mean_rate) for i in df.index]"
   ]
  },
  {
   "cell_type": "code",
   "execution_count": 31,
   "id": "42235801-d11a-4fd4-b3fd-74fd85a380f5",
   "metadata": {},
   "outputs": [],
   "source": [
    "weighted_matrix = np.diag(weighted_rates)"
   ]
  },
  {
   "cell_type": "markdown",
   "id": "ab5aaa7d-982e-4172-b55b-7f02178aba55",
   "metadata": {},
   "source": [
    "### Price Variable"
   ]
  },
  {
   "cell_type": "code",
   "execution_count": 32,
   "id": "46358c93-47a4-46a0-b06f-2ef3ed71c925",
   "metadata": {},
   "outputs": [],
   "source": [
    "available = [0 if row == \"Agotado\" else 1 for row in df[\"price\"] ]\n",
    "available_matrix = np.diag(available)"
   ]
  },
  {
   "cell_type": "markdown",
   "id": "25ee30c4-c6b1-4770-a333-7be52b13ac3e",
   "metadata": {},
   "source": [
    "## Recommendations"
   ]
  },
  {
   "cell_type": "code",
   "execution_count": 33,
   "id": "59547756-a7fd-409a-9ed6-df1ad470f450",
   "metadata": {},
   "outputs": [],
   "source": [
    "import random"
   ]
  },
  {
   "cell_type": "code",
   "execution_count": 34,
   "id": "468c36dc-3fff-4b80-a1df-5770c82c9abc",
   "metadata": {},
   "outputs": [],
   "source": [
    "indexes = pd.Series(df.index, index=df[\"link\"])"
   ]
  },
  {
   "cell_type": "code",
   "execution_count": 35,
   "id": "51a42967-9d02-4057-938e-bb45a96a5959",
   "metadata": {},
   "outputs": [],
   "source": [
    "def recommendations(link, similarity):\n",
    "    index = indexes[link]\n",
    "    scores = list(enumerate(similarity[index]))\n",
    "    scores = sorted(scores, key=lambda x: x[1], reverse=True)\n",
    "    max_score = max(scores, key=lambda x: x[1])\n",
    "    max_indexes = [i[0] for i in scores if i[1] == max_score[1]]\n",
    "    if index in max_indexes:\n",
    "        max_indexes.remove(index)\n",
    "#    print(f\"max: {max_indexes}\")\n",
    "    if len(max_indexes) > 3:\n",
    "        link_indexes = random.sample(max_indexes, 3)\n",
    "    else:\n",
    "        scores = [i[0] for i in scores]\n",
    "        scores.remove(index)\n",
    "        link_indexes = random.sample(scores[0:3], 3)\n",
    "#    print(link_indexes) \n",
    "    return df[\"link\"].iloc[link_indexes]\n",
    "\n",
    "def random_recommendation():\n",
    "    indexes = df[df[\"price\"] != \"Agotado\"].index\n",
    "    link_index = random.sample(sorted(indexes), 1)\n",
    "    return df[\"link\"].iloc[link_index]\n",
    "\n",
    "def get_recommendations(link, similarity):\n",
    "    print(f\"Input link:\\n {link}\")\n",
    "    recos = recommendations(link, similarity)\n",
    "    random_reco = random_recommendation()\n",
    "    print(f\"Output links:\")\n",
    "    reco_list = [rec for rec in recos]\n",
    "    #reco_list.append(random_reco.iloc[0])\n",
    "    #reco_list = random.sample(reco_list, 4)\n",
    "    for reco in reco_list:\n",
    "        print(\" \" + reco)\n",
    "    \n",
    "    print(f\"random: {random_reco.iloc[0]}\")"
   ]
  },
  {
   "cell_type": "code",
   "execution_count": 36,
   "id": "ed71c684-af4c-4213-9f0d-51ee569ba2e3",
   "metadata": {},
   "outputs": [],
   "source": [
    "formula = np.matmul(np.matmul(0.3*cosim_categorical+0.3*cosim_description, 0.3*weighted_matrix), available_matrix)"
   ]
  },
  {
   "cell_type": "code",
   "execution_count": 37,
   "id": "07a0c249-9ccc-4129-877c-e8c4a6414cc7",
   "metadata": {},
   "outputs": [
    {
     "name": "stdout",
     "output_type": "stream",
     "text": [
      "Input link:\n",
      " https://adagio.cl/products/berry-blues\n",
      "Output links:\n",
      " https://adagio.cl/products/deleite-de-curcuma\n",
      " https://adagio.cl/products/explosion-de-berries\n",
      " https://adagio.cl/products/berry-cream\n",
      "random: https://adagio.cl/products/infusor-bhoro-rojo\n"
     ]
    }
   ],
   "source": [
    "get_recommendations(df[\"link\"][154], formula)"
   ]
  },
  {
   "cell_type": "code",
   "execution_count": null,
   "id": "e7f078b0-fd54-410c-95ac-a5276e5bff3e",
   "metadata": {},
   "outputs": [],
   "source": []
  }
 ],
 "metadata": {
  "kernelspec": {
   "display_name": "data",
   "language": "python",
   "name": "data"
  },
  "language_info": {
   "codemirror_mode": {
    "name": "ipython",
    "version": 3
   },
   "file_extension": ".py",
   "mimetype": "text/x-python",
   "name": "python",
   "nbconvert_exporter": "python",
   "pygments_lexer": "ipython3",
   "version": "3.9.7"
  }
 },
 "nbformat": 4,
 "nbformat_minor": 5
}
