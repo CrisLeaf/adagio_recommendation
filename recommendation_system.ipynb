{
 "cells": [
  {
   "cell_type": "markdown",
   "id": "182cd081-275a-421e-ad8b-01462b7e00b1",
   "metadata": {},
   "source": [
    "# Adagio Recommendation System"
   ]
  },
  {
   "cell_type": "markdown",
   "id": "3d070985-b3cb-4e51-8a83-ba27e7828e68",
   "metadata": {},
   "source": [
    "## Introduction"
   ]
  },
  {
   "cell_type": "markdown",
   "id": "c21ab1af-af43-427a-ba8f-bd92372d6c9b",
   "metadata": {},
   "source": [
    "One way to keep a consumer longer on a page is by showing products that may interest him. To do so, one should build a **recommendation system**."
   ]
  },
  {
   "cell_type": "markdown",
   "id": "2050df91-1948-4e84-b95e-3aecadae0bdd",
   "metadata": {},
   "source": [
    "There exists different models. **A simple one is to just recommend other products from the same category**. For example, if someone is looking for a TV on an electronic website, the recommendations can be other TVs (nor refrigerators, coffee makers, so on)."
   ]
  },
  {
   "cell_type": "markdown",
   "id": "892dae01-2dc0-4af7-9b1c-b4470811e6ed",
   "metadata": {},
   "source": [
    "A more sophisticated way, is to **recommend the products that are the most similars**. For example, if the same person is looking for a low consumption TV on the same website, the recommendations can be other low consumption electronics (not high consumption TVs)."
   ]
  },
  {
   "cell_type": "markdown",
   "id": "68380076-7317-4fdd-aa43-4b413cc6a9f2",
   "metadata": {},
   "source": [
    "The latest carries a problem. **We first need to define a metric to measure similarities**. That is, assign an ordered value (a number) to each pair of product, where the largest means more similarity."
   ]
  },
  {
   "cell_type": "markdown",
   "id": "2ba314c5-fc50-486e-8bd9-08b075d3f85a",
   "metadata": {},
   "source": [
    "In this notebook we obtained similarities from the data collected (from [Adagio website](https://adagio.cl/)). And created an algorithm capable of recommeding tea related products."
   ]
  },
  {
   "cell_type": "markdown",
   "id": "cb47f9c7-a82c-419b-aad3-260d18c698c9",
   "metadata": {},
   "source": [
    "---"
   ]
  },
  {
   "cell_type": "markdown",
   "id": "cd81d94d-2a23-49fc-82a7-c54369c68748",
   "metadata": {},
   "source": [
    "Import the basic necessary libraries."
   ]
  },
  {
   "cell_type": "code",
   "execution_count": 1,
   "id": "8f801abc-dcc4-4528-aacc-b570928c0162",
   "metadata": {},
   "outputs": [],
   "source": [
    "import numpy as np\n",
    "np.random.seed(151515)\n",
    "import pandas as pd"
   ]
  },
  {
   "cell_type": "markdown",
   "id": "7e3e0468-dccc-4a95-91db-3a58118b27d2",
   "metadata": {},
   "source": [
    "### Import Dataset"
   ]
  },
  {
   "cell_type": "markdown",
   "id": "1cd4a7fa-b632-44cb-8e30-5b01c90431ca",
   "metadata": {},
   "source": [
    "Import the dataset."
   ]
  },
  {
   "cell_type": "code",
   "execution_count": 2,
   "id": "ec78cd46-3c6d-4ef0-9df2-fea3408434a7",
   "metadata": {},
   "outputs": [],
   "source": [
    "df = pd.read_csv(\"data_scraper/products.csv\")"
   ]
  },
  {
   "cell_type": "markdown",
   "id": "5a5d513b-2a56-44c3-8ecc-f5d33757dbf3",
   "metadata": {},
   "source": [
    "The data looks like:"
   ]
  },
  {
   "cell_type": "code",
   "execution_count": 3,
   "id": "c1a01ccf-3f35-4975-9188-5ccacd3fe0e0",
   "metadata": {},
   "outputs": [
    {
     "data": {
      "text/html": [
       "<div>\n",
       "<style scoped>\n",
       "    .dataframe tbody tr th:only-of-type {\n",
       "        vertical-align: middle;\n",
       "    }\n",
       "\n",
       "    .dataframe tbody tr th {\n",
       "        vertical-align: top;\n",
       "    }\n",
       "\n",
       "    .dataframe thead th {\n",
       "        text-align: right;\n",
       "    }\n",
       "</style>\n",
       "<table border=\"1\" class=\"dataframe\">\n",
       "  <thead>\n",
       "    <tr style=\"text-align: right;\">\n",
       "      <th></th>\n",
       "      <th>amount</th>\n",
       "      <th>benefit</th>\n",
       "      <th>description_1</th>\n",
       "      <th>description_2</th>\n",
       "      <th>format</th>\n",
       "      <th>link</th>\n",
       "      <th>name</th>\n",
       "      <th>price</th>\n",
       "      <th>property_1</th>\n",
       "      <th>property_2</th>\n",
       "      <th>property_3</th>\n",
       "      <th>property_4</th>\n",
       "      <th>property_5</th>\n",
       "      <th>raters</th>\n",
       "      <th>rating</th>\n",
       "      <th>temperature</th>\n",
       "      <th>time</th>\n",
       "    </tr>\n",
       "  </thead>\n",
       "  <tbody>\n",
       "    <tr>\n",
       "      <th>0</th>\n",
       "      <td>2,5g/250ml</td>\n",
       "      <td>hierba</td>\n",
       "      <td>exquisita mezcla de naranja, hibisco, rosa mos...</td>\n",
       "      <td>naranja, hibisco, rosa mosqueta y sabor natura...</td>\n",
       "      <td>60 gramos</td>\n",
       "      <td>https://adagio.cl/products/ruby-orange</td>\n",
       "      <td>ruby orange</td>\n",
       "      <td>Agotado</td>\n",
       "      <td>antioxidante</td>\n",
       "      <td>sin-cafeina</td>\n",
       "      <td>NaN</td>\n",
       "      <td>NaN</td>\n",
       "      <td>NaN</td>\n",
       "      <td>1.0</td>\n",
       "      <td>5.0</td>\n",
       "      <td>100 celsius</td>\n",
       "      <td>5 min</td>\n",
       "    </tr>\n",
       "    <tr>\n",
       "      <th>1</th>\n",
       "      <td>2,5g/250ml</td>\n",
       "      <td>negro</td>\n",
       "      <td>te negro descafeinado de ceylan, trozos de coc...</td>\n",
       "      <td>te negro descafeinado de ceylan, trozos de coc...</td>\n",
       "      <td>57 gramos</td>\n",
       "      <td>https://adagio.cl/products/ghost-drink</td>\n",
       "      <td>ghost drink</td>\n",
       "      <td>5990</td>\n",
       "      <td>energizante</td>\n",
       "      <td>sin-cafeina</td>\n",
       "      <td>NaN</td>\n",
       "      <td>NaN</td>\n",
       "      <td>NaN</td>\n",
       "      <td>1.0</td>\n",
       "      <td>5.0</td>\n",
       "      <td>100 celsius</td>\n",
       "      <td>3 min</td>\n",
       "    </tr>\n",
       "    <tr>\n",
       "      <th>2</th>\n",
       "      <td>NaN</td>\n",
       "      <td>NaN</td>\n",
       "      <td>almacena el te de forma conveniente y segura e...</td>\n",
       "      <td>elige tu te favorito y guardalo en tu tarro me...</td>\n",
       "      <td>NaN</td>\n",
       "      <td>https://adagio.cl/products/tarro-grande-negro</td>\n",
       "      <td>tarro grande negro</td>\n",
       "      <td>2490</td>\n",
       "      <td>NaN</td>\n",
       "      <td>NaN</td>\n",
       "      <td>NaN</td>\n",
       "      <td>NaN</td>\n",
       "      <td>NaN</td>\n",
       "      <td>2.0</td>\n",
       "      <td>3.5</td>\n",
       "      <td>NaN</td>\n",
       "      <td>NaN</td>\n",
       "    </tr>\n",
       "    <tr>\n",
       "      <th>3</th>\n",
       "      <td>NaN</td>\n",
       "      <td>NaN</td>\n",
       "      <td>infusor de goma con rejilla de acero inoxidabl...</td>\n",
       "      <td>echar la cantidad recomendada de te en el infu...</td>\n",
       "      <td>grafito</td>\n",
       "      <td>https://adagio.cl/products/infusor-de-goma-gra...</td>\n",
       "      <td>infusor de goma grafito</td>\n",
       "      <td>4990</td>\n",
       "      <td>NaN</td>\n",
       "      <td>NaN</td>\n",
       "      <td>NaN</td>\n",
       "      <td>NaN</td>\n",
       "      <td>NaN</td>\n",
       "      <td>1.0</td>\n",
       "      <td>5.0</td>\n",
       "      <td>NaN</td>\n",
       "      <td>NaN</td>\n",
       "    </tr>\n",
       "    <tr>\n",
       "      <th>4</th>\n",
       "      <td>2,5g/250ml</td>\n",
       "      <td>negro</td>\n",
       "      <td>te negro confeti verde, ojos de caramelo y sab...</td>\n",
       "      <td>te negro confeti verde, ojos de caramelo y sab...</td>\n",
       "      <td>57 gramos</td>\n",
       "      <td>https://adagio.cl/products/monster-mash</td>\n",
       "      <td>monster mash</td>\n",
       "      <td>5990</td>\n",
       "      <td>energizante</td>\n",
       "      <td>NaN</td>\n",
       "      <td>NaN</td>\n",
       "      <td>NaN</td>\n",
       "      <td>NaN</td>\n",
       "      <td>1.0</td>\n",
       "      <td>3.0</td>\n",
       "      <td>100 celsius</td>\n",
       "      <td>3 min</td>\n",
       "    </tr>\n",
       "  </tbody>\n",
       "</table>\n",
       "</div>"
      ],
      "text/plain": [
       "       amount benefit                                      description_1  \\\n",
       "0  2,5g/250ml  hierba  exquisita mezcla de naranja, hibisco, rosa mos...   \n",
       "1  2,5g/250ml   negro  te negro descafeinado de ceylan, trozos de coc...   \n",
       "2         NaN     NaN  almacena el te de forma conveniente y segura e...   \n",
       "3         NaN     NaN  infusor de goma con rejilla de acero inoxidabl...   \n",
       "4  2,5g/250ml   negro  te negro confeti verde, ojos de caramelo y sab...   \n",
       "\n",
       "                                       description_2     format  \\\n",
       "0  naranja, hibisco, rosa mosqueta y sabor natura...  60 gramos   \n",
       "1  te negro descafeinado de ceylan, trozos de coc...  57 gramos   \n",
       "2  elige tu te favorito y guardalo en tu tarro me...        NaN   \n",
       "3  echar la cantidad recomendada de te en el infu...    grafito   \n",
       "4  te negro confeti verde, ojos de caramelo y sab...  57 gramos   \n",
       "\n",
       "                                                link                     name  \\\n",
       "0             https://adagio.cl/products/ruby-orange              ruby orange   \n",
       "1             https://adagio.cl/products/ghost-drink              ghost drink   \n",
       "2      https://adagio.cl/products/tarro-grande-negro       tarro grande negro   \n",
       "3  https://adagio.cl/products/infusor-de-goma-gra...  infusor de goma grafito   \n",
       "4            https://adagio.cl/products/monster-mash             monster mash   \n",
       "\n",
       "     price    property_1   property_2 property_3 property_4  property_5  \\\n",
       "0  Agotado  antioxidante  sin-cafeina        NaN        NaN         NaN   \n",
       "1     5990   energizante  sin-cafeina        NaN        NaN         NaN   \n",
       "2     2490           NaN          NaN        NaN        NaN         NaN   \n",
       "3     4990           NaN          NaN        NaN        NaN         NaN   \n",
       "4     5990   energizante          NaN        NaN        NaN         NaN   \n",
       "\n",
       "   raters  rating  temperature   time  \n",
       "0     1.0     5.0  100 celsius  5 min  \n",
       "1     1.0     5.0  100 celsius  3 min  \n",
       "2     2.0     3.5          NaN    NaN  \n",
       "3     1.0     5.0          NaN    NaN  \n",
       "4     1.0     3.0  100 celsius  3 min  "
      ]
     },
     "execution_count": 3,
     "metadata": {},
     "output_type": "execute_result"
    }
   ],
   "source": [
    "df.head(5)"
   ]
  },
  {
   "cell_type": "markdown",
   "id": "c0cb6e2b-eceb-4ace-83a4-a519efef4c51",
   "metadata": {},
   "source": [
    "We have the following information of the dataset."
   ]
  },
  {
   "cell_type": "code",
   "execution_count": 4,
   "id": "b10f7613-3de5-44d7-951c-74a497f51327",
   "metadata": {},
   "outputs": [
    {
     "name": "stdout",
     "output_type": "stream",
     "text": [
      "<class 'pandas.core.frame.DataFrame'>\n",
      "RangeIndex: 642 entries, 0 to 641\n",
      "Data columns (total 17 columns):\n",
      " #   Column         Non-Null Count  Dtype  \n",
      "---  ------         --------------  -----  \n",
      " 0   amount         386 non-null    object \n",
      " 1   benefit        384 non-null    object \n",
      " 2   description_1  636 non-null    object \n",
      " 3   description_2  638 non-null    object \n",
      " 4   format         555 non-null    object \n",
      " 5   link           642 non-null    object \n",
      " 6   name           642 non-null    object \n",
      " 7   price          642 non-null    object \n",
      " 8   property_1     408 non-null    object \n",
      " 9   property_2     256 non-null    object \n",
      " 10  property_3     56 non-null     object \n",
      " 11  property_4     5 non-null      object \n",
      " 12  property_5     0 non-null      float64\n",
      " 13  raters         455 non-null    float64\n",
      " 14  rating         455 non-null    float64\n",
      " 15  temperature    386 non-null    object \n",
      " 16  time           386 non-null    object \n",
      "dtypes: float64(3), object(14)\n",
      "memory usage: 85.4+ KB\n",
      "\n",
      "DataFrame Shape: (642, 17)\n"
     ]
    }
   ],
   "source": [
    "df.info()\n",
    "print(f\"\\nDataFrame Shape: {df.shape}\")"
   ]
  },
  {
   "cell_type": "markdown",
   "id": "8224a787-c45f-4714-ad8d-878e5632b444",
   "metadata": {},
   "source": [
    "drop the `property_5` column, as it has 0 non-null rows."
   ]
  },
  {
   "cell_type": "code",
   "execution_count": 5,
   "id": "055d15ec-ef88-4ef3-b4e4-28fb711ec33c",
   "metadata": {},
   "outputs": [],
   "source": [
    "df.drop(columns=\"property_5\", inplace=True)"
   ]
  },
  {
   "cell_type": "markdown",
   "id": "8ed4f3f7-867f-488e-97f3-2fbc6bc58605",
   "metadata": {},
   "source": [
    "### Remove Duplicates"
   ]
  },
  {
   "cell_type": "markdown",
   "id": "9d0b211d-1208-4b86-96a1-c0034dab6b5e",
   "metadata": {},
   "source": [
    "Duplicates can affect the model. The ideal is not to recommend the same product twice."
   ]
  },
  {
   "cell_type": "code",
   "execution_count": 6,
   "id": "6d71533c-30f7-4aac-9fee-9ae337096ff4",
   "metadata": {},
   "outputs": [
    {
     "name": "stdout",
     "output_type": "stream",
     "text": [
      "Number of duplicated links: 379\n"
     ]
    }
   ],
   "source": [
    "duplicates_number = sum(df[\"link\"].duplicated())\n",
    "print(f\"Number of duplicated links: {duplicates_number}\")"
   ]
  },
  {
   "cell_type": "markdown",
   "id": "40ba79e5-c3da-437b-82b7-4cb8a21337b6",
   "metadata": {},
   "source": [
    "Drop all the duplicated links."
   ]
  },
  {
   "cell_type": "code",
   "execution_count": 7,
   "id": "dd1e194f-ff53-41db-95b6-8276a83287cf",
   "metadata": {},
   "outputs": [],
   "source": [
    "df.drop_duplicates(inplace=True)\n",
    "df = df.sample(frac=1, random_state=5454)\n",
    "df.reset_index(drop=True, inplace=True)\n",
    "df = df.copy()"
   ]
  },
  {
   "cell_type": "code",
   "execution_count": 8,
   "id": "0d4066dc-8187-41bb-9e4c-be8852fdc510",
   "metadata": {},
   "outputs": [
    {
     "name": "stdout",
     "output_type": "stream",
     "text": [
      "Final DataFrame shape: (263, 16)\n"
     ]
    }
   ],
   "source": [
    "print(f\"Final DataFrame shape: {df.shape}\")"
   ]
  },
  {
   "cell_type": "markdown",
   "id": "54068378-bdae-443d-a216-4068ee2b23dc",
   "metadata": {},
   "source": [
    "Finally, we have the following information."
   ]
  },
  {
   "cell_type": "code",
   "execution_count": 9,
   "id": "b9724f14-30b3-474d-9d0a-684315c4c4a3",
   "metadata": {},
   "outputs": [
    {
     "name": "stdout",
     "output_type": "stream",
     "text": [
      "<class 'pandas.core.frame.DataFrame'>\n",
      "RangeIndex: 263 entries, 0 to 262\n",
      "Data columns (total 16 columns):\n",
      " #   Column         Non-Null Count  Dtype  \n",
      "---  ------         --------------  -----  \n",
      " 0   amount         154 non-null    object \n",
      " 1   benefit        153 non-null    object \n",
      " 2   description_1  261 non-null    object \n",
      " 3   description_2  260 non-null    object \n",
      " 4   format         218 non-null    object \n",
      " 5   link           263 non-null    object \n",
      " 6   name           263 non-null    object \n",
      " 7   price          263 non-null    object \n",
      " 8   property_1     162 non-null    object \n",
      " 9   property_2     91 non-null     object \n",
      " 10  property_3     21 non-null     object \n",
      " 11  property_4     2 non-null      object \n",
      " 12  raters         182 non-null    float64\n",
      " 13  rating         182 non-null    float64\n",
      " 14  temperature    154 non-null    object \n",
      " 15  time           154 non-null    object \n",
      "dtypes: float64(2), object(14)\n",
      "memory usage: 33.0+ KB\n"
     ]
    }
   ],
   "source": [
    "df.info()"
   ]
  },
  {
   "cell_type": "markdown",
   "id": "c232c8ee-1509-4de5-8753-b5e67838003a",
   "metadata": {},
   "source": [
    "## Similarities"
   ]
  },
  {
   "cell_type": "markdown",
   "id": "a5ed1138-87fe-41ab-943a-bca06e4c1678",
   "metadata": {},
   "source": [
    "### Categorical Variables"
   ]
  },
  {
   "cell_type": "markdown",
   "id": "802df281-8d67-45f8-bccc-de813e58b362",
   "metadata": {},
   "source": [
    "Some products have labels like *te negro*, *energizante* and so on. **The algorithm should recommend products with similar labels**."
   ]
  },
  {
   "cell_type": "markdown",
   "id": "a7103484-c95c-4f86-ace5-0a14d7a3755c",
   "metadata": {},
   "source": [
    "We have the following unique values:"
   ]
  },
  {
   "cell_type": "code",
   "execution_count": 10,
   "id": "1fe07b0d-e37d-47f8-b217-aedee246d813",
   "metadata": {},
   "outputs": [
    {
     "name": "stdout",
     "output_type": "stream",
     "text": [
      "Unique Values in format column:\n",
      " [nan '57 gramos' '43 gramos' '10 teabags' '85 gramos' '70 gramos'\n",
      " 'turquesa infusor dorado' 'roja' '35 gramos' 'turquesa' 'iridiscent'\n",
      " 'rojo' 'dark blue' '60 gramos' 'turquesa granito' '27 gramos' 'negro'\n",
      " 'blanco' '85 gramos / 11 bolitas' 'dorada' '40 gramos' 'celeste' 'lila'\n",
      " 'azul' '15 teabags' 'lila granito' 'grafito' 'hojas naranjo' 'fucsia'\n",
      " 'grande' 'iridescent lila' '28 gramos' 'verde' 'pack good moments'\n",
      " '15 piramides' 'moonstar turquesa' 'full color menta' 'full color lila'\n",
      " 'amarillo' 'menta' '50 gramos' 'estrella salmon' 'estrella turquesa'\n",
      " 'estrella fucsia' 'nubes turquesa' 'transparente' '30 teabags' 'negra'\n",
      " 'infusor grafito' 'black']\n",
      "\n",
      "Unique Values in benefit column:\n",
      " [nan 'negro' 'hierba' 'rooibos' 'verde' 'oolong' 'matcha' 'rojo' 'blanco'\n",
      " 'amarillo']\n",
      "\n",
      "Unique Values in property_1 column:\n",
      " [nan 'antioxidante' 'energizante' 'relajante' 'digestion' 'sin-cafeina']\n",
      "\n",
      "Unique Values in property_2 column:\n",
      " [nan 'energizante' 'sin-cafeina' 'digestion' 'relajante']\n",
      "\n",
      "Unique Values in property_3 column:\n",
      " [nan 'relajante' 'energizante' 'sin-cafeina']\n",
      "\n",
      "Unique Values in property_4 column:\n",
      " [nan 'sin-cafeina']\n",
      "\n"
     ]
    }
   ],
   "source": [
    "print(f\"Unique Values in format column:\\n {df.format.unique()}\\n\")\n",
    "print(f\"Unique Values in benefit column:\\n {df.benefit.unique()}\\n\")\n",
    "print(f\"Unique Values in property_1 column:\\n {df.property_1.unique()}\\n\")\n",
    "print(f\"Unique Values in property_2 column:\\n {df.property_2.unique()}\\n\")\n",
    "print(f\"Unique Values in property_3 column:\\n {df.property_3.unique()}\\n\")\n",
    "print(f\"Unique Values in property_4 column:\\n {df.property_4.unique()}\\n\")"
   ]
  },
  {
   "cell_type": "markdown",
   "id": "8389b806-e03f-4424-86fb-b44e46a9ed34",
   "metadata": {},
   "source": [
    "Fill the NAs with blank text."
   ]
  },
  {
   "cell_type": "code",
   "execution_count": 11,
   "id": "ad4e1c97-7362-4cb5-a44c-006a78411087",
   "metadata": {},
   "outputs": [],
   "source": [
    "df[\"format\"].fillna(value=\"\", inplace=True)\n",
    "df[\"benefit\"].fillna(value=\"\", inplace=True)\n",
    "df[\"property_1\"].fillna(value=\"\", inplace=True)\n",
    "df[\"property_2\"].fillna(value=\"\", inplace=True)\n",
    "df[\"property_3\"].fillna(value=\"\", inplace=True)\n",
    "df[\"property_4\"].fillna(value=\"\", inplace=True)"
   ]
  },
  {
   "cell_type": "markdown",
   "id": "032d132c-3f9c-4efd-9321-488414a96cd5",
   "metadata": {},
   "source": [
    "Clean the text to not have special characters."
   ]
  },
  {
   "cell_type": "code",
   "execution_count": 12,
   "id": "aef5006a-83cf-42d4-895c-0d350c54ce66",
   "metadata": {},
   "outputs": [],
   "source": [
    "def clean_text(string):\n",
    "    for character in string:\n",
    "        if character not in \"abcdefghijklmnopqrstuvwxyz \":\n",
    "            string = string.replace(str(character), \" \")\n",
    "    return string\n",
    "\n",
    "def clean_cafeina(string):\n",
    "    for character in string:\n",
    "        if character == \"-\":\n",
    "            string = string.replace(str(character), \"\")\n",
    "    return string\n",
    "\n",
    "df[\"format\"] = df[\"format\"].apply(lambda x: clean_text(x))\n",
    "df[\"properties\"] = df[\"property_1\"] + \" \" + df[\"property_2\"] + \" \" \\\n",
    "    + df[\"property_3\"] + \" \" + df[\"property_4\"]\n",
    "df[\"properties\"] = df[\"properties\"].apply(lambda x: x.strip())\n",
    "df[\"properties\"] = df[\"properties\"].apply(lambda x: clean_cafeina(x))"
   ]
  },
  {
   "cell_type": "markdown",
   "id": "692a1f4f-436e-41fd-86da-452345e31fa0",
   "metadata": {},
   "source": [
    "Put all properties together in `all_properties` column."
   ]
  },
  {
   "cell_type": "code",
   "execution_count": 13,
   "id": "94b9c12d-c1ee-44a6-90bc-664afdb98ef7",
   "metadata": {},
   "outputs": [],
   "source": [
    "df[\"all_properties\"] = df[\"format\"] + \" \" + df[\"benefit\"] + \" \" + df[\"properties\"]\n",
    "df[\"all_properties\"] = df[\"all_properties\"].apply(lambda x: x.strip())\n",
    "df[\"all_properties\"] = df[\"all_properties\"].apply(lambda x: \" \".join(x.split()))"
   ]
  },
  {
   "cell_type": "markdown",
   "id": "df9aa5ed-ed67-4a07-958d-31e6a80291c2",
   "metadata": {},
   "source": [
    "#### Vectorization"
   ]
  },
  {
   "cell_type": "markdown",
   "id": "dd671b07-c43e-47f3-b8b5-65201fd2b0d8",
   "metadata": {},
   "source": [
    "To measure how much one product looks like another, **we need to represent each item as a vector of some space**. This process is known as *vectorization*.\n",
    "\n",
    "The column `all_properties` consists of sets of label words. One can count **how many labels appears in each product**. And this can be done using the $CountVectorizer$ class from scikit-learn."
   ]
  },
  {
   "cell_type": "code",
   "execution_count": 14,
   "id": "5c5dcc5d-6817-4a63-9acf-5f90e9fdb446",
   "metadata": {},
   "outputs": [],
   "source": [
    "from sklearn.feature_extraction.text import CountVectorizer"
   ]
  },
  {
   "cell_type": "code",
   "execution_count": 15,
   "id": "23838b2d-86a3-4e1f-acc9-8b7fd916a6a2",
   "metadata": {},
   "outputs": [],
   "source": [
    "count = CountVectorizer()\n",
    "count_matrix = count.fit_transform(df[\"all_properties\"])"
   ]
  },
  {
   "cell_type": "markdown",
   "id": "668be7f6-4bf7-4c1f-af9d-4ef31dc02918",
   "metadata": {},
   "source": [
    "We get the $count$_$matrix$ of shape:"
   ]
  },
  {
   "cell_type": "code",
   "execution_count": 16,
   "id": "015fd6d6-313e-45bd-98f7-39d2cb1f12c5",
   "metadata": {},
   "outputs": [
    {
     "data": {
      "text/plain": [
       "(263, 49)"
      ]
     },
     "execution_count": 16,
     "metadata": {},
     "output_type": "execute_result"
    }
   ],
   "source": [
    "count_matrix.shape"
   ]
  },
  {
   "cell_type": "markdown",
   "id": "24f1553a-2d62-4b98-ae98-718d2617f14f",
   "metadata": {},
   "source": [
    "Where each row of the `all_properties` column is represented as a row in the $263\\times 52$ matrix. And the $52$ columns corresponds to the $52$ unique labels."
   ]
  },
  {
   "cell_type": "markdown",
   "id": "ee2352bf-f3ee-4bbf-99ed-ed806d1228b0",
   "metadata": {},
   "source": [
    "For example, the $2^{nd}$ row of `all_properties` says:"
   ]
  },
  {
   "cell_type": "code",
   "execution_count": 17,
   "id": "997f0ae6-1546-4daf-b47d-4da6f435b8b7",
   "metadata": {},
   "outputs": [
    {
     "name": "stdout",
     "output_type": "stream",
     "text": [
      "gramos negro antioxidante energizante\n"
     ]
    }
   ],
   "source": [
    "print(df[\"all_properties\"][1])"
   ]
  },
  {
   "cell_type": "markdown",
   "id": "e52ebd6a-4a54-4185-90fd-f2ad2dc65b85",
   "metadata": {},
   "source": [
    "And the second row of the $count$_$matrix$ is:"
   ]
  },
  {
   "cell_type": "code",
   "execution_count": 18,
   "id": "c6a5f0f0-258a-4164-a1b8-0208636a310a",
   "metadata": {},
   "outputs": [
    {
     "data": {
      "text/plain": [
       "array([0, 1, 0, 0, 0, 0, 0, 0, 0, 0, 0, 0, 0, 1, 0, 0, 0, 0, 0, 1, 0, 0,\n",
       "       0, 0, 0, 0, 0, 0, 0, 0, 0, 0, 0, 0, 1, 0, 0, 0, 0, 0, 0, 0, 0, 0,\n",
       "       0, 0, 0, 0, 0])"
      ]
     },
     "execution_count": 18,
     "metadata": {},
     "output_type": "execute_result"
    }
   ],
   "source": [
    "count_matrix.toarray()[1]"
   ]
  },
  {
   "cell_type": "markdown",
   "id": "b6a10018-8c72-4e69-8186-7b5f0649191e",
   "metadata": {},
   "source": [
    "We see that the $1$s corresponds to the labels that appears on the $2^{nd}$ row. While the $0$s to the labels that are not in the $2^{nd}$ row.\n",
    "\n",
    "In total, we have $263$ vectors inside a $52$-dimensional vector space."
   ]
  },
  {
   "cell_type": "markdown",
   "id": "507efda2-ce1e-4f68-a7e6-8df63d2c86b6",
   "metadata": {},
   "source": [
    "#### Similarity"
   ]
  },
  {
   "cell_type": "markdown",
   "id": "82426fdc-9343-4b64-b678-5eb60a338c6c",
   "metadata": {},
   "source": [
    "Now that we have the vectors, **we must find a way to measure distances**. One can be obtained using the *[dot product](https://en.wikipedia.org/wiki/Dot_product#Geometric_definition)* of two vectors $\\vec{v}$ and $\\vec{w}$:"
   ]
  },
  {
   "cell_type": "markdown",
   "id": "a76561b9-2bf0-45a4-a582-c10da6ca2b34",
   "metadata": {},
   "source": [
    "$$\\vec{v}\\cdot\\vec{w}=\\|v\\|\\|w\\|\\cos \\theta,$$"
   ]
  },
  {
   "cell_type": "markdown",
   "id": "7946bb6a-26ca-455b-a684-07a00af341c9",
   "metadata": {},
   "source": [
    "where $\\theta$ is the angle between $\\vec{v}$ and $\\vec{w}$, and $\\|\\cdot\\|$ is the euclidean norm."
   ]
  },
  {
   "cell_type": "markdown",
   "id": "4ffb4347-ae9c-4743-96ec-8482129f8a8e",
   "metadata": {},
   "source": [
    "So we are calculating the angle:\n",
    "$$\n",
    "\\cos\\theta = \\frac{\\vec{v}\\cdot\\vec{w}}{\\|v\\|\\|w\\|}\n",
    "$$\n",
    "to measure the distance between two vectors. As **lower angle cosines imply closer vectors**."
   ]
  },
  {
   "cell_type": "markdown",
   "id": "e4a6c0df-05d9-4c3a-b43e-28d6eaa83b16",
   "metadata": {},
   "source": [
    "For example, $\\cos\\theta_{1} = \\frac{\\sqrt{2}}{2}$ is higher than $\\cos\\theta_{2} =\\frac{-\\sqrt{2}}{2}$. which implies that the distance between $v$ and $w_{1}$ is lower than the distance between $v$ and $w_{2}$.\n"
   ]
  },
  {
   "cell_type": "markdown",
   "id": "94e8b348-8937-46dc-9a01-5770657c0aa0",
   "metadata": {},
   "source": [
    "<img src=\"images/angle1.jpeg\" width=300/> <img src=\"images/angle2.jpeg\" width=445/>"
   ]
  },
  {
   "cell_type": "markdown",
   "id": "5ed73d35-f60b-41d2-bfa1-69d151b2be16",
   "metadata": {},
   "source": [
    "This method is known as $cosine\\_similarity$."
   ]
  },
  {
   "cell_type": "code",
   "execution_count": 19,
   "id": "736f8c8a-e927-4e7e-8050-9670a3b3b992",
   "metadata": {},
   "outputs": [],
   "source": [
    "from sklearn.metrics.pairwise import cosine_similarity"
   ]
  },
  {
   "cell_type": "markdown",
   "id": "75edb7b3-a866-4d16-bdb5-0ca37f9cd054",
   "metadata": {},
   "source": [
    "Create the cosine similarity matrix."
   ]
  },
  {
   "cell_type": "code",
   "execution_count": 20,
   "id": "6f2504cf-ba1f-478d-9bc5-a541c6842499",
   "metadata": {},
   "outputs": [],
   "source": [
    "cosim_categorical = cosine_similarity(count_matrix, count_matrix)"
   ]
  },
  {
   "cell_type": "markdown",
   "id": "189908b2-e99f-4dad-9bf2-37b1fae4cc6b",
   "metadata": {},
   "source": [
    "It has the following shape:"
   ]
  },
  {
   "cell_type": "code",
   "execution_count": 21,
   "id": "a5eccbec-0c72-459d-af14-4be3b33a7b0a",
   "metadata": {},
   "outputs": [
    {
     "data": {
      "text/plain": [
       "(263, 263)"
      ]
     },
     "execution_count": 21,
     "metadata": {},
     "output_type": "execute_result"
    }
   ],
   "source": [
    "cosim_categorical.shape"
   ]
  },
  {
   "cell_type": "markdown",
   "id": "59e3f03c-1d37-4419-93db-6ca064800bf0",
   "metadata": {},
   "source": [
    "**Note: vectors only have positive values, which imply that the cosine similarity range is between $[0, 1]$.**"
   ]
  },
  {
   "cell_type": "markdown",
   "id": "ca3b4dac-31b8-44d7-b9fd-5987a39c849e",
   "metadata": {
    "tags": []
   },
   "source": [
    "### Description"
   ]
  },
  {
   "cell_type": "markdown",
   "id": "c38168b3-edf2-4448-bf4c-1b56c807a3bd",
   "metadata": {},
   "source": [
    "Almost every product on the website has a description on it. In which they briefly tell us about the product. At the same time, each product has a second description specifying how to use it, or the ingredients.\n",
    "\n",
    "All this information was scraped. And just like before, **we want to extract vectors from it**."
   ]
  },
  {
   "cell_type": "markdown",
   "id": "b76b8f35-2688-4d89-a381-4b6112f2a161",
   "metadata": {},
   "source": [
    "First, check the number of missing rows."
   ]
  },
  {
   "cell_type": "code",
   "execution_count": 22,
   "id": "97984b1b-7427-4819-9093-fe060fd41cb6",
   "metadata": {},
   "outputs": [
    {
     "name": "stdout",
     "output_type": "stream",
     "text": [
      "Number of missing rows in description_1: 2\n",
      "Number of missing rows in description_2: 3\n"
     ]
    }
   ],
   "source": [
    "print(f\"Number of missing rows in description_1: {sum(df.description_1.isna())}\")\n",
    "print(f\"Number of missing rows in description_2: {sum(df.description_2.isna())}\")"
   ]
  },
  {
   "cell_type": "markdown",
   "id": "a30e2d04-5074-4a8b-b52c-98c27fb9b027",
   "metadata": {},
   "source": [
    "Replace the missing rows with a blank string."
   ]
  },
  {
   "cell_type": "code",
   "execution_count": 23,
   "id": "5a25ab37-4819-436b-b2af-de837f2005d4",
   "metadata": {},
   "outputs": [],
   "source": [
    "df[\"description_1\"].fillna(value=\"\", inplace=True)\n",
    "df[\"description_2\"].fillna(value=\"\", inplace=True)"
   ]
  },
  {
   "cell_type": "markdown",
   "id": "de557093-44d5-4a81-906c-9f0ffd873b91",
   "metadata": {},
   "source": [
    "To facilitate the vectorization process, remove all special characters. \n",
    "\n",
    "Define the following cleaning function."
   ]
  },
  {
   "cell_type": "code",
   "execution_count": 24,
   "id": "2d0312a9-5c7b-4c23-8ad3-e19a6af3ff83",
   "metadata": {},
   "outputs": [],
   "source": [
    "def clean_text(string):\n",
    "    for character in string:\n",
    "        if character not in \"abcdefghijklmnopqrstuvwxyz \":\n",
    "            string = string.replace(str(character), \" \")\n",
    "    return string"
   ]
  },
  {
   "cell_type": "markdown",
   "id": "3a947bfa-0ebf-47dc-ac64-69639e058377",
   "metadata": {},
   "source": [
    "Join both columns in a single one."
   ]
  },
  {
   "cell_type": "code",
   "execution_count": 25,
   "id": "1944f50d-84a0-46f8-9249-8d7ed7d803b3",
   "metadata": {},
   "outputs": [],
   "source": [
    "df[\"description_cleaned\"] = df[\"description_1\"].apply(lambda x: clean_text(x)) + \\\n",
    "    \" \" + df[\"description_2\"].apply(lambda x: clean_text(x))"
   ]
  },
  {
   "cell_type": "markdown",
   "id": "53cd4c87-9fc9-4185-9e30-b3451031a780",
   "metadata": {},
   "source": [
    "#### Vectorization"
   ]
  },
  {
   "cell_type": "markdown",
   "id": "6ce6bb29-4efe-4acc-81f9-5a2545aae9ab",
   "metadata": {},
   "source": [
    "One would be tempted to repeat the vectorizer used in the previous part. But there, each word represented a label. And if we count each word as a label, the most commonly used would be the *stop-words* (empty words used to concatenate ideas; words like \"el, la, para, por\")"
   ]
  },
  {
   "cell_type": "markdown",
   "id": "3709dff1-a7f2-4adc-80eb-f9b841b86c71",
   "metadata": {},
   "source": [
    "A way to solve this is by replacing each sentence with key words that represent the principal ideas. But **a simpler way is to use the $TfidfVectorizer$**."
   ]
  },
  {
   "cell_type": "markdown",
   "id": "1db40b6a-29cf-4e38-a437-4ab32f437eca",
   "metadata": {},
   "source": [
    "In addition to counting how many times a word appears in a text. **We multiply the count by the \"importance\" of each word**. The final formula is, for a word $t$ and a document $d$:"
   ]
  },
  {
   "cell_type": "markdown",
   "id": "d2c3731a-f10b-4ea3-910c-fa04a1036acb",
   "metadata": {},
   "source": [
    "$$\n",
    "\\text{Tfidf}\\hspace{0.05in}(t, d) = \\text{Tf}\\hspace{0.05in}(t, d)\\hspace{0.05in} \\cdot \\frac{N}{nf}(t)\n",
    "$$"
   ]
  },
  {
   "cell_type": "markdown",
   "id": "17c96ae8-1f11-4e4f-bc03-11497ba38fe4",
   "metadata": {},
   "source": [
    "Where:\n",
    "- $\\text{Tf}\\hspace{0.05in}(t, d)$  is the frequency of the word $t$ in the document $d$,\n",
    "- $\\text{Idf}\\hspace{0.05in}(t)$ is the importance of the word $t$,\n",
    "- $N$ is the total number of documents, and\n",
    "- $nf$ is the number of the word $t$ appears in all documents."
   ]
  },
  {
   "cell_type": "markdown",
   "id": "92d84383-cf73-40a8-ac98-dd576e8323a7",
   "metadata": {},
   "source": [
    "Import the vectorizer and a brief list of spanish stop words to facilitate the counting process."
   ]
  },
  {
   "cell_type": "code",
   "execution_count": 26,
   "id": "7f32fd2a-2081-447a-9738-efb11c0b209d",
   "metadata": {},
   "outputs": [],
   "source": [
    "from sklearn.feature_extraction.text import TfidfVectorizer\n",
    "from utils import stop_words"
   ]
  },
  {
   "cell_type": "code",
   "execution_count": 27,
   "id": "eb0e0329-b738-4179-b70a-5308b390b600",
   "metadata": {},
   "outputs": [],
   "source": [
    "tfidf = TfidfVectorizer(stop_words=stop_words)\n",
    "tfidf_matrix = tfidf.fit_transform(df[\"description_cleaned\"])"
   ]
  },
  {
   "cell_type": "markdown",
   "id": "fc84ea47-ca22-4d24-b221-c75c90e628ef",
   "metadata": {},
   "source": [
    "The $tfidf\\_matrix$ has the following shape:"
   ]
  },
  {
   "cell_type": "code",
   "execution_count": 28,
   "id": "a2555c38-c2e9-414f-933d-a0a9ecd4c0c8",
   "metadata": {},
   "outputs": [
    {
     "data": {
      "text/plain": [
       "(263, 2107)"
      ]
     },
     "execution_count": 28,
     "metadata": {},
     "output_type": "execute_result"
    }
   ],
   "source": [
    "tfidf_matrix.shape"
   ]
  },
  {
   "cell_type": "markdown",
   "id": "c6351621-d9c0-4f68-9d4f-87148917b4b8",
   "metadata": {},
   "source": [
    "There are $2107$ unique words in all descritions."
   ]
  },
  {
   "cell_type": "markdown",
   "id": "398deb2f-d2ca-4326-91ad-c06d132ae6af",
   "metadata": {},
   "source": [
    "#### Similarity"
   ]
  },
  {
   "cell_type": "markdown",
   "id": "be51b465-06de-4863-ab9a-29bf2d4906aa",
   "metadata": {},
   "source": [
    "For the similarity, we are using the same idea as before."
   ]
  },
  {
   "cell_type": "code",
   "execution_count": 29,
   "id": "ef9db137-2723-4c24-ae50-40ef76c693f8",
   "metadata": {},
   "outputs": [],
   "source": [
    "from sklearn.metrics.pairwise import cosine_similarity\n",
    "cosim_description = cosine_similarity(tfidf_matrix, tfidf_matrix)"
   ]
  },
  {
   "cell_type": "markdown",
   "id": "027d26d5-27ef-4f95-9d35-3a69b13e0e7f",
   "metadata": {},
   "source": [
    "With the shape:"
   ]
  },
  {
   "cell_type": "code",
   "execution_count": 30,
   "id": "ef4c5380-47b9-42c7-949c-dc6b9f630a30",
   "metadata": {},
   "outputs": [
    {
     "data": {
      "text/plain": [
       "(263, 263)"
      ]
     },
     "execution_count": 30,
     "metadata": {},
     "output_type": "execute_result"
    }
   ],
   "source": [
    "cosim_description.shape"
   ]
  },
  {
   "cell_type": "markdown",
   "id": "9defb0de-59b6-437e-a0b1-54fced7c70ca",
   "metadata": {},
   "source": [
    "**Note: vectors only have positive values, which imply that the cosine similarity range is between $[0, 1]$.**"
   ]
  },
  {
   "cell_type": "markdown",
   "id": "9eb60f93-24c7-4c3e-99bd-11f3f9b36ad0",
   "metadata": {
    "tags": []
   },
   "source": [
    "### Rating"
   ]
  },
  {
   "cell_type": "markdown",
   "id": "91e04141-ef81-41db-99bd-9c198194b118",
   "metadata": {},
   "source": [
    "In a recommendation system, **one would like to show products that consumers like**. To do so, we gathered the `rating` and `raters` columns, representing the average vote, and the numbers of votes each product has."
   ]
  },
  {
   "cell_type": "markdown",
   "id": "d4e23b42-332b-4d7c-b848-ce971796f8c6",
   "metadata": {},
   "source": [
    "Replace the missing values with $0$."
   ]
  },
  {
   "cell_type": "code",
   "execution_count": 31,
   "id": "ed451259-606f-4ab1-b984-6f8313751978",
   "metadata": {},
   "outputs": [],
   "source": [
    "df[\"rating\"].fillna(value=0., inplace=True)\n",
    "df[\"raters\"].fillna(value=0., inplace=True)"
   ]
  },
  {
   "cell_type": "markdown",
   "id": "c83ce4c6-e2fa-4d6d-8718-4902f83bc0cf",
   "metadata": {},
   "source": [
    "We are using the following formula to assign a weight for each product $p$, based on its rating:\n",
    "$$\n",
    "\\text{Weighted_Rating}\\hspace{0.05in}(p) = \\left(r_p\\cdot\\frac{n_p}{n_p+1}  \\right) + \\left(\\frac{\\mu}{n_p+1}  \\right)\n",
    "$$"
   ]
  },
  {
   "cell_type": "markdown",
   "id": "c4e438ba-e18d-4f38-a2b2-d1949c8838b4",
   "metadata": {},
   "source": [
    "where\n",
    "- $r_p$ is the rate of the product $p$,\n",
    "- $n_p$ is the number of voters of the product $p$, and\n",
    "- $\\mu$ is the average rate of all the products."
   ]
  },
  {
   "cell_type": "code",
   "execution_count": 32,
   "id": "0ed6b6df-91db-45d1-a225-825a7a9ee29f",
   "metadata": {},
   "outputs": [],
   "source": [
    "def weighted_rating(rating, num_votes, mean_rate):\n",
    "    return (rating*num_votes/(num_votes+1)) + (mean_rate/(num_votes+1))"
   ]
  },
  {
   "cell_type": "code",
   "execution_count": 33,
   "id": "faacc5f5-e410-496a-a397-1793f88186bf",
   "metadata": {},
   "outputs": [],
   "source": [
    "mean_rate = np.mean(df[\"rating\"])\n",
    "weighted_rates = [weighted_rating(df[\"rating\"][i], df[\"raters\"][i], mean_rate) for i in df.index]"
   ]
  },
  {
   "cell_type": "markdown",
   "id": "69369219-9fe6-44f0-b71e-c0d9e14ecb5b",
   "metadata": {},
   "source": [
    "Define the similarity matrix in the range $[0, 1]$ where $0$ means no votes, while $1$ means the highest weighted rating."
   ]
  },
  {
   "cell_type": "code",
   "execution_count": 34,
   "id": "232fb6e9-28f4-495c-a6cf-c6fe0cbfad61",
   "metadata": {},
   "outputs": [],
   "source": [
    "weighted_matrix = np.tile(weighted_rates, (cosim_categorical.shape[1], 1))\n",
    "weighted_matrix = np.interp(\n",
    "    weighted_matrix, (weighted_matrix.min(), weighted_matrix.max()), (0, 1)\n",
    ")"
   ]
  },
  {
   "cell_type": "markdown",
   "id": "7b5b1381-f836-4a17-a8fa-785043cdaca5",
   "metadata": {},
   "source": [
    "The matrix has the following shape."
   ]
  },
  {
   "cell_type": "code",
   "execution_count": 35,
   "id": "836c0a04-1572-4345-9901-84e8262ec7cc",
   "metadata": {},
   "outputs": [
    {
     "data": {
      "text/plain": [
       "(263, 263)"
      ]
     },
     "execution_count": 35,
     "metadata": {},
     "output_type": "execute_result"
    }
   ],
   "source": [
    "weighted_matrix.shape"
   ]
  },
  {
   "cell_type": "markdown",
   "id": "ab5aaa7d-982e-4172-b55b-7f02178aba55",
   "metadata": {},
   "source": [
    "### Price Variable"
   ]
  },
  {
   "cell_type": "markdown",
   "id": "781f7986-21be-4894-be72-e8ecca476fbf",
   "metadata": {},
   "source": [
    "Ideally, the algorithm may not recommend products out of stock. So we define the $available\\_matrix$ to be just $0$ if the product is available and $-100$ if not. This is done to prevent the algorithm from picking unavailables."
   ]
  },
  {
   "cell_type": "code",
   "execution_count": 36,
   "id": "46358c93-47a4-46a0-b06f-2ef3ed71c925",
   "metadata": {},
   "outputs": [],
   "source": [
    "available = [-100 if row == \"Agotado\" else 0 for row in df[\"price\"] ]\n",
    "available_matrix = np.tile(available, (cosim_categorical.shape[1], 1))"
   ]
  },
  {
   "cell_type": "code",
   "execution_count": 37,
   "id": "a9c07444-c407-4780-b53f-89077bea7153",
   "metadata": {},
   "outputs": [
    {
     "data": {
      "text/plain": [
       "array([[   0, -100,    0, ..., -100,    0,    0],\n",
       "       [   0, -100,    0, ..., -100,    0,    0],\n",
       "       [   0, -100,    0, ..., -100,    0,    0],\n",
       "       ...,\n",
       "       [   0, -100,    0, ..., -100,    0,    0],\n",
       "       [   0, -100,    0, ..., -100,    0,    0],\n",
       "       [   0, -100,    0, ..., -100,    0,    0]])"
      ]
     },
     "execution_count": 37,
     "metadata": {},
     "output_type": "execute_result"
    }
   ],
   "source": [
    "available_matrix"
   ]
  },
  {
   "cell_type": "markdown",
   "id": "25ee30c4-c6b1-4770-a333-7be52b13ac3e",
   "metadata": {},
   "source": [
    "## Recommendations"
   ]
  },
  {
   "cell_type": "markdown",
   "id": "7b48399a-e45e-4f88-a830-3d5bbfbcf52a",
   "metadata": {},
   "source": [
    "The recommendation system is a function to which we input:\n",
    "- link: the link of the product.\n",
    "- similarity: the similarity matrix. A formula derived from all the previous similarity matrices.\n",
    "\n",
    "and it outputs:\n",
    "- 3 recommendations: those with the largest similarity.\n",
    "- 1 random recommendation: there are so many random events in life that we cannot quantify, so every recommendation system may have room for a random recommendation. The only constraint is to be an available product."
   ]
  },
  {
   "cell_type": "code",
   "execution_count": 38,
   "id": "59547756-a7fd-409a-9ed6-df1ad470f450",
   "metadata": {},
   "outputs": [],
   "source": [
    "import random"
   ]
  },
  {
   "cell_type": "code",
   "execution_count": 39,
   "id": "468c36dc-3fff-4b80-a1df-5770c82c9abc",
   "metadata": {},
   "outputs": [],
   "source": [
    "indexes = pd.Series(df.index, index=df[\"link\"])"
   ]
  },
  {
   "cell_type": "code",
   "execution_count": 40,
   "id": "51a42967-9d02-4057-938e-bb45a96a5959",
   "metadata": {},
   "outputs": [],
   "source": [
    "def recommendations(link, similarity):\n",
    "    index = indexes[link]\n",
    "    scores = list(enumerate(similarity[index]))\n",
    "    scores = sorted(scores, key=lambda x: x[1], reverse=True)\n",
    "    max_score = max(scores, key=lambda x: x[1])\n",
    "    max_indexes = [i[0] for i in scores if i[1] == max_score[1]]\n",
    "    if index in max_indexes:\n",
    "        max_indexes.remove(index)\n",
    "    if len(max_indexes) > 3:\n",
    "        link_indexes = random.sample(max_indexes, 3)\n",
    "    else:\n",
    "        scores = [i[0] for i in scores]\n",
    "        scores.remove(index)\n",
    "        link_indexes = random.sample(scores[0:3], 3)\n",
    "    return df[\"link\"].iloc[link_indexes]\n",
    "\n",
    "def random_recommendation():\n",
    "    indexes = df[df[\"price\"] != \"Agotado\"].index\n",
    "    link_index = random.sample(sorted(indexes), 1)\n",
    "    return df[\"link\"].iloc[link_index]\n",
    "\n",
    "def get_recommendations(link, similarity):\n",
    "    print(f\"Input link:\\n {link}\")\n",
    "    recos = recommendations(link, similarity)\n",
    "    random_reco = random_recommendation()\n",
    "    print(f\"Output links:\")\n",
    "    reco_list = [rec for rec in recos]\n",
    "    reco_list.append(random_reco.iloc[0])\n",
    "    reco_list = random.sample(reco_list, 4)\n",
    "    for reco in reco_list:\n",
    "        print(\" \" + reco)\n",
    "    return reco_list"
   ]
  },
  {
   "cell_type": "markdown",
   "id": "5b24ecc6-4b0a-4a60-98fd-bb65e6da924b",
   "metadata": {},
   "source": [
    "For the formula we are just adding each matrix, multiplied by the percentage of impact each one has."
   ]
  },
  {
   "cell_type": "code",
   "execution_count": 41,
   "id": "a653f9eb-6b59-4845-bda3-0af479ac7a57",
   "metadata": {},
   "outputs": [],
   "source": [
    "formula = 0.3*cosim_categorical + 0.3*cosim_description + 0.3*weighted_matrix + available_matrix"
   ]
  },
  {
   "cell_type": "markdown",
   "id": "740c5fa1-e6a4-4d78-a7b6-d4d58cba0849",
   "metadata": {},
   "source": [
    "As an example, these are the recommendatios for "
   ]
  },
  {
   "cell_type": "code",
   "execution_count": 42,
   "id": "07a0c249-9ccc-4129-877c-e8c4a6414cc7",
   "metadata": {},
   "outputs": [
    {
     "name": "stdout",
     "output_type": "stream",
     "text": [
      "Input link:\n",
      " https://adagio.cl/products/arabica-mocha\n",
      "Output links:\n",
      " https://adagio.cl/products/pack-4-pomos-flavour-explotion\n",
      " https://adagio.cl/products/deleite-de-curcuma\n",
      " https://adagio.cl/products/arabica-chai\n",
      " https://adagio.cl/products/berry-blues\n"
     ]
    }
   ],
   "source": [
    "_ = get_recommendations(df[\"link\"][25], formula)"
   ]
  }
 ],
 "metadata": {
  "kernelspec": {
   "display_name": "data",
   "language": "python",
   "name": "data"
  },
  "language_info": {
   "codemirror_mode": {
    "name": "ipython",
    "version": 3
   },
   "file_extension": ".py",
   "mimetype": "text/x-python",
   "name": "python",
   "nbconvert_exporter": "python",
   "pygments_lexer": "ipython3",
   "version": "3.9.7"
  }
 },
 "nbformat": 4,
 "nbformat_minor": 5
}
